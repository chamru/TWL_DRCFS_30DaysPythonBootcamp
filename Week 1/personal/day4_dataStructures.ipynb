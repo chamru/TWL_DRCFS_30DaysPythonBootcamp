{
 "cells": [
  {
   "cell_type": "markdown",
   "metadata": {},
   "source": [
    "List and Tuples\n",
    "# List is mutable (interior mutability)\n",
    "# String is immutable\n",
    "\n",
    "List is mutable, we can change things in this variable\n",
    "Redeclaration a = \"Samrid\"a = \"abc\"\n",
    "\n",
    "\n",
    "List:\n",
    "1. Initilaization -> [1, 2]\n",
    "2.  Mutable\n",
    "\n",
    "Tuple:\n",
    "1. Initilaization -> ('Something','Something')\n",
    "2. Immutable\n"
   ]
  },
  {
   "cell_type": "code",
   "execution_count": 1,
   "metadata": {},
   "outputs": [
    {
     "name": "stdout",
     "output_type": "stream",
     "text": [
      "Anuj\n"
     ]
    }
   ],
   "source": [
    "# List\n",
    "\n",
    "#Array is static, this is vector\n",
    "mentor_names = [\"Anuj\",'Ashim', 'Samrid', 'Bishal','Saugat','Utsav','Hari']\n",
    "\n",
    "#accessing List's values\n",
    "#Index always starts from 0\n",
    "print(mentor_names[0])"
   ]
  },
  {
   "cell_type": "code",
   "execution_count": 3,
   "metadata": {},
   "outputs": [
    {
     "name": "stdout",
     "output_type": "stream",
     "text": [
      "['Anuj', 'Ashim', 'Samrid', 'Bishal', 'Saugat', 'Utsav', 'Hari', 'Name']\n",
      "['Ashim', 'Samrid', 'Bishal', 'Saugat', 'Utsav', 'Hari', 'Name']\n",
      "['Anuj', 'Ashim', 'Samrid', 'Bishal', 'Saugat', 'Utsav', 'Hari', 'Name']\n",
      "['Samrid', 'Ashim', 'Samrid', 'Bishal', 'Saugat', 'Utsav', 'Hari', 'Name']\n"
     ]
    }
   ],
   "source": [
    "mentor_names = [\"Anuj\",'Ashim', 'Samrid', 'Bishal','Saugat','Utsav','Hari']\n",
    "\n",
    "#Add something to list\n",
    "mentor_names.append('Name')\n",
    "print(mentor_names)\n",
    "\n",
    "#Remove the element of index 0\n",
    "mentor_names.pop(0)\n",
    "print(mentor_names)\n",
    "\n",
    "#Insert into specific index\n",
    "mentor_names.insert(0, 'Anuj')\n",
    "print(mentor_names)\n",
    "\n",
    "#Replace the value\n",
    "mentor_names[0]= 'Samrid'\n",
    "print(mentor_names)"
   ]
  },
  {
   "cell_type": "code",
   "execution_count": 5,
   "metadata": {},
   "outputs": [
    {
     "name": "stdout",
     "output_type": "stream",
     "text": [
      "Samrid Pandit\n"
     ]
    }
   ],
   "source": [
    "#List is mutable, we can change things in this variable\n",
    "#Redeclaration a = \"Samrid\"a = \"abc\"\n",
    "\n",
    "#String is immutable\n",
    "name = 'Samrid'\n",
    "name = name + ' Pandit'\n",
    "print(name)"
   ]
  },
  {
   "cell_type": "code",
   "execution_count": 1,
   "metadata": {},
   "outputs": [
    {
     "name": "stdout",
     "output_type": "stream",
     "text": [
      "red\n",
      "violet\n",
      "green\n",
      "blue\n",
      "yellow\n",
      "indigo\n",
      "orange\n"
     ]
    }
   ],
   "source": [
    "#Tuple\n",
    "rainbow_colours = ('red','violet','green','blue','yellow','indigo','orange')\n",
    "for colour in rainbow_colours:\n",
    "    print(colour)\n"
   ]
  },
  {
   "cell_type": "code",
   "execution_count": 6,
   "metadata": {},
   "outputs": [
    {
     "name": "stdout",
     "output_type": "stream",
     "text": [
      "(0, 'red')\n",
      "(1, 'violet')\n",
      "(2, 'green')\n",
      "(3, 'blue')\n",
      "(4, 'yellow')\n",
      "(5, 'indigo')\n",
      "(6, 'orange')\n"
     ]
    }
   ],
   "source": [
    "rainbow_colours = ('red','violet','green','blue','yellow','indigo','orange')\n",
    "\n",
    "for val in enumerate(rainbow_colours):\n",
    "    print(val)"
   ]
  },
  {
   "cell_type": "code",
   "execution_count": 10,
   "metadata": {},
   "outputs": [
    {
     "name": "stdout",
     "output_type": "stream",
     "text": [
      "0\n",
      "7\n"
     ]
    }
   ],
   "source": [
    "index = rainbow_colours.index('red')\n",
    "print(index)\n",
    "\n",
    "#Length of List or tuple\n",
    "print(len(rainbow_colours))"
   ]
  }
 ],
 "metadata": {
  "kernelspec": {
   "display_name": "Python 3.10.8 64-bit",
   "language": "python",
   "name": "python3"
  },
  "language_info": {
   "codemirror_mode": {
    "name": "ipython",
    "version": 3
   },
   "file_extension": ".py",
   "mimetype": "text/x-python",
   "name": "python",
   "nbconvert_exporter": "python",
   "pygments_lexer": "ipython3",
   "version": "3.10.8"
  },
  "orig_nbformat": 4,
  "vscode": {
   "interpreter": {
    "hash": "26de051ba29f2982a8de78e945f0abaf191376122a1563185a90213a26c5da77"
   }
  }
 },
 "nbformat": 4,
 "nbformat_minor": 2
}
