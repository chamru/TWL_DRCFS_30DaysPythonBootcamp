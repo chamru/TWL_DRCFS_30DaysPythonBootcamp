{
 "cells": [
  {
   "cell_type": "code",
   "execution_count": 1,
   "metadata": {},
   "outputs": [
    {
     "name": "stdout",
     "output_type": "stream",
     "text": [
      "Hello World!!\n"
     ]
    }
   ],
   "source": [
    "print(\"Hello World!!\")"
   ]
  },
  {
   "cell_type": "markdown",
   "metadata": {},
   "source": [
    "Input and Variables"
   ]
  },
  {
   "cell_type": "code",
   "execution_count": 9,
   "metadata": {},
   "outputs": [
    {
     "name": "stdout",
     "output_type": "stream",
     "text": [
      "Hello \n"
     ]
    }
   ],
   "source": [
    "person = input(\"What is your name?\")\n",
    "print(\"Hello \" +  person)"
   ]
  },
  {
   "cell_type": "markdown",
   "metadata": {},
   "source": [
    "#Basic Datatypes\n",
    "1. int->Integer\n",
    "2. Str->String\n",
    "3. Float->Float\n",
    "4. None->Null\n",
    "5. Bool->Boolean"
   ]
  },
  {
   "cell_type": "code",
   "execution_count": 13,
   "metadata": {},
   "outputs": [
    {
     "name": "stdout",
     "output_type": "stream",
     "text": [
      "1\n",
      "<class 'int'>\n"
     ]
    }
   ],
   "source": [
    "integer = 1\n",
    "#print(integer)\n",
    "print(type(integer))"
   ]
  },
  {
   "cell_type": "code",
   "execution_count": 16,
   "metadata": {},
   "outputs": [
    {
     "name": "stdout",
     "output_type": "stream",
     "text": [
      "Vivek\n",
      "<class 'str'>\n"
     ]
    }
   ],
   "source": [
    "String = \"Vivek\"\n",
    "#print(String)\n",
    "print(type(String))"
   ]
  },
  {
   "cell_type": "code",
   "execution_count": 18,
   "metadata": {},
   "outputs": [
    {
     "name": "stdout",
     "output_type": "stream",
     "text": [
      "1.0\n",
      "<class 'float'>\n"
     ]
    }
   ],
   "source": [
    "float = 1.0\n",
    "#print(float)\n",
    "print(type(float))"
   ]
  },
  {
   "cell_type": "code",
   "execution_count": 20,
   "metadata": {},
   "outputs": [
    {
     "name": "stdout",
     "output_type": "stream",
     "text": [
      "True\n",
      "<class 'bool'>\n"
     ]
    }
   ],
   "source": [
    "print(1==1)\n",
    "print(type(1==1))"
   ]
  },
  {
   "cell_type": "code",
   "execution_count": 30,
   "metadata": {},
   "outputs": [
    {
     "name": "stdout",
     "output_type": "stream",
     "text": [
      "31\n",
      "<class 'int'>\n",
      "My age is31\n",
      "My age is 31\n",
      "32\n"
     ]
    }
   ],
   "source": [
    "age = input(\"What is your age?\")\n",
    "# print(age)\n",
    "# print(type(age)) #Python always return String no matter what the input datatype is\n",
    "\n",
    "int_age=int(age) # converting string into integer\n",
    "print(int_age)\n",
    "print(type(int_age))\n",
    "\n",
    "#Concadination cannot be done for two different datatypes\n",
    "print(\"My age is\" + age)\n",
    "print(\"My age is\" , int_age) # If use comma, conversion not required, only in print function\n",
    "print(int_age + 1)"
   ]
  },
  {
   "cell_type": "markdown",
   "metadata": {},
   "source": [
    "Day 2"
   ]
  },
  {
   "cell_type": "markdown",
   "metadata": {},
   "source": [
    "Control Flow Statements"
   ]
  },
  {
   "cell_type": "markdown",
   "metadata": {},
   "source": [
    "For driving licence(Bike):\n",
    "\n",
    "1. Input user's age \n",
    "2. Convert user's age to integer\n",
    "3. Check if user is older than 16 years old.\n",
    "4. If user is older, show he is eligible else show he is not"
   ]
  },
  {
   "cell_type": "code",
   "execution_count": 2,
   "metadata": {},
   "outputs": [
    {
     "name": "stdout",
     "output_type": "stream",
     "text": [
      "Old enough to ride a bike\n"
     ]
    }
   ],
   "source": [
    "#Get user's age\n",
    "age_str = input(\"What's your age?\")\n",
    "\n",
    "#Convert String to int\n",
    "age = int(age_str)\n",
    "\n",
    "#Compare user's age\n",
    "if age >= 16:\n",
    "    print ('Old enough to ride a bike')\n",
    "else:\n",
    "    print('Not old enough to ride a bike')\n",
    "\n"
   ]
  },
  {
   "cell_type": "code",
   "execution_count": 4,
   "metadata": {},
   "outputs": [
    {
     "name": "stdout",
     "output_type": "stream",
     "text": [
      "Invalid username and password\n"
     ]
    }
   ],
   "source": [
    "#Login System\n",
    "username = input(\"Enter your username:\")\n",
    "password = input(\"Enter your password:\")\n",
    "\n",
    "#username == 'duck' and password == 'passw0rd'\n",
    "if username == 'duck' and password == 'passw0rd':\n",
    "    print('Welcome duck')\n",
    "elif username == 'ankur' and password == 'ankur123':\n",
    "    print(\"Welcome Ankur\")\n",
    "else:\n",
    "    print(\"Invalid username or password\")\n"
   ]
  },
  {
   "cell_type": "markdown",
   "metadata": {},
   "source": [
    "Looping Statements"
   ]
  },
  {
   "cell_type": "code",
   "execution_count": 5,
   "metadata": {},
   "outputs": [
    {
     "name": "stdout",
     "output_type": "stream",
     "text": [
      "Hello Ashim, hopefully you're enjoying this session\n",
      "Hello Vivek, hopefully you're enjoying this session\n",
      "Hello Prashant, hopefully you're enjoying this session\n",
      "Hello Prem, hopefully you're enjoying this session\n",
      "Hello Chiran, hopefully you're enjoying this session\n"
     ]
    }
   ],
   "source": [
    "print(\"Hello Ashim, hopefully you're enjoying this session\")\n",
    "print(\"Hello Vivek, hopefully you're enjoying this session\")\n",
    "print(\"Hello Prashant, hopefully you're enjoying this session\")\n",
    "print(\"Hello Prem, hopefully you're enjoying this session\")\n",
    "print(\"Hello Chiran, hopefully you're enjoying this session\")"
   ]
  },
  {
   "cell_type": "code",
   "execution_count": 6,
   "metadata": {},
   "outputs": [
    {
     "name": "stdout",
     "output_type": "stream",
     "text": [
      "0\n",
      "1\n",
      "2\n",
      "3\n",
      "4\n"
     ]
    }
   ],
   "source": [
    "# For loop\n",
    "for i in range(5): # Use range(1, 6), if needed 1 to 5.  1 is inclusive and 6 is exclusive\n",
    "    print(i)"
   ]
  },
  {
   "cell_type": "code",
   "execution_count": 10,
   "metadata": {},
   "outputs": [
    {
     "name": "stdout",
     "output_type": "stream",
     "text": [
      "0 is Even\n",
      "1 is Odd\n",
      "2 is Even\n",
      "3 is Odd\n",
      "4 is Even\n",
      "5 is Odd\n",
      "6 is Even\n",
      "7 is Odd\n",
      "8 is Even\n",
      "9 is Odd\n"
     ]
    }
   ],
   "source": [
    "#Odd even\n",
    "for i in range(10): # Or range(0, 10, 1)\n",
    "    if i % 2 == 0:\n",
    "        print(str(i) + ' is Even')\n",
    "    else:\n",
    "        print(str(i) + ' is Odd')"
   ]
  },
  {
   "cell_type": "code",
   "execution_count": 18,
   "metadata": {},
   "outputs": [
    {
     "name": "stdout",
     "output_type": "stream",
     "text": [
      "10\n",
      "9\n",
      "8\n",
      "7\n",
      "6\n",
      "5\n",
      "4\n",
      "3\n",
      "2\n"
     ]
    }
   ],
   "source": [
    "for i in range(10, 1, -1): # Or (1, 11, 2)\n",
    "    print(i)"
   ]
  },
  {
   "cell_type": "markdown",
   "metadata": {},
   "source": [
    "Range Function:\n",
    "1. range(10) -> 0,1,2,3,....,10\n",
    "2. range(1, 10) -> 1,2,3,4,....,10\n",
    "3. range(10, 1, -1) -> 10,9,8,7,6....,2\n",
    "4. range(1, 11, 2)- 1,3,5,7,9"
   ]
  }
 ],
 "metadata": {
  "kernelspec": {
   "display_name": "Python 3.9.13 ('base')",
   "language": "python",
   "name": "python3"
  },
  "language_info": {
   "codemirror_mode": {
    "name": "ipython",
    "version": 3
   },
   "file_extension": ".py",
   "mimetype": "text/x-python",
   "name": "python",
   "nbconvert_exporter": "python",
   "pygments_lexer": "ipython3",
   "version": "3.9.13"
  },
  "orig_nbformat": 4,
  "vscode": {
   "interpreter": {
    "hash": "0248a8e2b88f5505a392a9c845f38075735e8bb2395eb9f6af5f263b44bac71b"
   }
  }
 },
 "nbformat": 4,
 "nbformat_minor": 2
}
